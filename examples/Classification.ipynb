{
 "cells": [
  {
   "cell_type": "code",
   "execution_count": 1,
   "metadata": {},
   "outputs": [
    {
     "name": "stderr",
     "output_type": "stream",
     "text": [
      "/Users/giuseppe.vettigli/just_experiments/venv3/lib/python3.6/site-packages/sklearn/cross_validation.py:41: DeprecationWarning: This module was deprecated in version 0.18 in favor of the model_selection module into which all the refactored classes and functions are moved. Also note that the interface of the new CV iterators are different from that of this module. This module will be removed in 0.20.\n",
      "  \"This module will be removed in 0.20.\", DeprecationWarning)\n"
     ]
    },
    {
     "name": "stdout",
     "output_type": "stream",
     "text": [
      "Training...\n",
      "\n",
      "...ready!\n",
      "              precision    recall  f1-score   support\n",
      "\n",
      "      setosa       1.00      1.00      1.00        12\n",
      "  versicolor       1.00      0.73      0.85        15\n",
      "   virginica       0.73      1.00      0.85        11\n",
      "\n",
      "   micro avg       0.89      0.89      0.89        38\n",
      "   macro avg       0.91      0.91      0.90        38\n",
      "weighted avg       0.92      0.89      0.89        38\n",
      "\n"
     ]
    }
   ],
   "source": [
    "import sys\n",
    "sys.path.insert(0, '../')\n",
    "\n",
    "from minisom import MiniSom\n",
    "\n",
    "from sklearn.cross_validation import train_test_split\n",
    "from sklearn.metrics import classification_report\n",
    "\n",
    "import numpy as np\n",
    "import matplotlib.pyplot as plt\n",
    "from matplotlib.gridspec import GridSpec\n",
    "%matplotlib inline\n",
    "\n",
    "%load_ext autoreload\n",
    "\n",
    "data = np.genfromtxt('iris.csv', delimiter=',', usecols=(0, 1, 2, 3))\n",
    "data = np.apply_along_axis(lambda x: x/np.linalg.norm(x), 1, data)\n",
    "labels = np.genfromtxt('iris.csv', delimiter=',', usecols=(4), dtype=str)\n",
    "\n",
    "# Initialization and training\n",
    "som = MiniSom(7, 7, 4, sigma=2.5, learning_rate=0.5, \n",
    "              neighborhood_function='gaussian', random_seed=10)\n",
    "\n",
    "som.pca_weights_init(data)\n",
    "print(\"Training...\")\n",
    "som.train_batch(data, 1000, verbose=False)\n",
    "print(\"\\n...ready!\")\n",
    "\n",
    "\n",
    "X_train, X_test, y_train, y_test = train_test_split(data, labels)\n",
    "\n",
    "som.train_random(X_train, 5000, verbose=False)\n",
    "som.labels_map(X_train, y_train)\n",
    "\n",
    "print(classification_report(y_test, np.array(som.classify(X_test))))"
   ]
  }
 ],
 "metadata": {
  "kernelspec": {
   "display_name": "Python 3",
   "language": "python",
   "name": "python3"
  },
  "language_info": {
   "codemirror_mode": {
    "name": "ipython",
    "version": 3
   },
   "file_extension": ".py",
   "mimetype": "text/x-python",
   "name": "python",
   "nbconvert_exporter": "python",
   "pygments_lexer": "ipython3",
   "version": "3.6.2"
  }
 },
 "nbformat": 4,
 "nbformat_minor": 2
}
